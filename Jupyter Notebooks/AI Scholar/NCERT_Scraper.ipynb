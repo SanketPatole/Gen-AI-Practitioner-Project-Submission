{
  "nbformat": 4,
  "nbformat_minor": 0,
  "metadata": {
    "colab": {
      "provenance": []
    },
    "kernelspec": {
      "name": "python3",
      "display_name": "Python 3"
    },
    "language_info": {
      "name": "python"
    }
  },
  "cells": [
    {
      "cell_type": "code",
      "source": [
        "!pip install pypdf"
      ],
      "metadata": {
        "colab": {
          "base_uri": "https://localhost:8080/"
        },
        "id": "zgH0E1BiddOP",
        "outputId": "0e52d213-acd6-4d80-8ba0-e5388bf7e859"
      },
      "execution_count": 3,
      "outputs": [
        {
          "output_type": "stream",
          "name": "stdout",
          "text": [
            "Requirement already satisfied: pypdf in /usr/local/lib/python3.10/dist-packages (4.0.1)\n"
          ]
        }
      ]
    },
    {
      "cell_type": "code",
      "source": [
        "import requests\n",
        "import os\n",
        "import urllib.request\n",
        "import time"
      ],
      "metadata": {
        "id": "7fYcpUy1ddRh"
      },
      "execution_count": 4,
      "outputs": []
    },
    {
      "cell_type": "code",
      "source": [
        "base_url = \"https://ncert.nic.in/textbook.php\""
      ],
      "metadata": {
        "id": "FJSF06xlLoKt"
      },
      "execution_count": 5,
      "outputs": []
    },
    {
      "cell_type": "code",
      "source": [
        "source = requests.get(base_url).text"
      ],
      "metadata": {
        "id": "GjbzFWYLLqim"
      },
      "execution_count": 6,
      "outputs": []
    },
    {
      "cell_type": "code",
      "source": [
        "classes = source.split(\"//this function check the classthat you have selected\")[1].split(\"function\")[0].split(\"}\")[1:-3]\n",
        "subjects = dict()\n",
        "for cls in classes:\n",
        "  lines = [line.strip() for line in cls.split(\"\\n\") if line.strip() != \"\" and line.strip() != \"{\" and not \"..\" in line.strip() and not line.strip().startswith(\"//\")]\n",
        "  subjects[int(lines[0].split(\"=\")[2].split(\")\")[0])] = [lines[i].split('\"')[1] for i in range(1, len(lines))]"
      ],
      "metadata": {
        "id": "uz6QLgLiMA2E"
      },
      "execution_count": 7,
      "outputs": []
    },
    {
      "cell_type": "code",
      "source": [
        "codes = dict()\n",
        "for cls in [10, 11, 12]:\n",
        "  os.mkdir(f\"Class - {cls}\")\n",
        "  for subject in subjects[cls]:\n",
        "    os.mkdir(f\"Class - {cls}/Subject  {subject}\")\n",
        "    lines = source.split(f\"\"\"if((document.test.tclass.value=={cls}) && (document.test.tsubject.options[sind].text==\"{subject}\"))\"\"\")[1].split(\"}\")[0].split(\"\\n\")\n",
        "    lines = [line.strip() for line in lines if line.strip() != \"\" and line.strip() != \"{\" and not \"..\" in line.strip() and not line.strip().startswith(\"//\")]\n",
        "    if len(lines)>0:\n",
        "      code = lines[1].split(\"?\")[1].split(\"=\")[0]\n",
        "      number_of_pages = int(lines[1].split(\"?\")[1].split(\"=\")[1].split(\"-\")[1].split('\"')[0])\n",
        "      for i in range(1, number_of_pages):\n",
        "        unitcode = str(i) if i>9 else \"0\"+str(i)\n",
        "        url = f\"https://ncert.nic.in/textbook/pdf/{code}{unitcode}.pdf\"\n",
        "        file_name = url.split(\"/\")[-1]\n",
        "        try:\n",
        "          time.sleep(5)\n",
        "          urllib.request.urlretrieve(url, f\"Class - {cls}/Subject  {subject}/{file_name}\")\n",
        "        except:\n",
        "          print(f\"Unable to download {url}\")"
      ],
      "metadata": {
        "id": "8wrZO3DyMJ_9"
      },
      "execution_count": 8,
      "outputs": []
    },
    {
      "cell_type": "code",
      "source": [],
      "metadata": {
        "id": "_kz-DdA0NTS8"
      },
      "execution_count": 8,
      "outputs": []
    },
    {
      "cell_type": "code",
      "source": [],
      "metadata": {
        "id": "L8Dm4RuvQDwk"
      },
      "execution_count": 94,
      "outputs": []
    },
    {
      "cell_type": "code",
      "source": [],
      "metadata": {
        "id": "76eYcafXT79C"
      },
      "execution_count": 94,
      "outputs": []
    }
  ]
}