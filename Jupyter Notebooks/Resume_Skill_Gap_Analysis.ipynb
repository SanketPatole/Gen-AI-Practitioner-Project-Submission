{
  "nbformat": 4,
  "nbformat_minor": 0,
  "metadata": {
    "colab": {
      "provenance": []
    },
    "kernelspec": {
      "name": "python3",
      "display_name": "Python 3"
    },
    "language_info": {
      "name": "python"
    }
  },
  "cells": [
    {
      "cell_type": "markdown",
      "source": [
        "#Resume - Skill Gap Analysis"
      ],
      "metadata": {
        "id": "zOJFMkupP6HO"
      }
    },
    {
      "cell_type": "markdown",
      "source": [
        "."
      ],
      "metadata": {
        "id": "tasyzwQzQRix"
      }
    },
    {
      "cell_type": "code",
      "source": [
        "!pip install openai\n",
        "!pip install Langchain\n",
        "!pip install tiktoken\n",
        "!pip install docarray\n",
        "!pip install pypdf\n",
        "!pip install faiss-gpu\n",
        "!pip install llama_index"
      ],
      "metadata": {
        "id": "VadHEbLaP28U"
      },
      "execution_count": null,
      "outputs": []
    },
    {
      "cell_type": "markdown",
      "source": [
        "."
      ],
      "metadata": {
        "id": "tMcJTuTnQWJJ"
      }
    },
    {
      "cell_type": "markdown",
      "source": [
        "#1. Import required libraries."
      ],
      "metadata": {
        "id": "V-bMAxnL7ZQI"
      }
    },
    {
      "cell_type": "code",
      "source": [
        "import openai\n",
        "import os\n",
        "from langchain.chat_models import ChatOpenAI\n",
        "from langchain.prompts import PromptTemplate\n",
        "from langchain.chains.question_answering import load_qa_chain\n",
        "from langchain.output_parsers import ResponseSchema, StructuredOutputParser\n",
        "from langchain.document_loaders import CSVLoader, PyPDFLoader\n",
        "from langchain.text_splitter import RecursiveCharacterTextSplitter\n",
        "from langchain.embeddings.openai import OpenAIEmbeddings\n",
        "from langchain.vectorstores import FAISS"
      ],
      "metadata": {
        "id": "Xy82XBp5kdQ2"
      },
      "execution_count": 130,
      "outputs": []
    },
    {
      "cell_type": "markdown",
      "source": [
        "."
      ],
      "metadata": {
        "id": "Vrs9wVv77wgm"
      }
    },
    {
      "cell_type": "markdown",
      "source": [
        "#2. Functions to read flat files & pdf files."
      ],
      "metadata": {
        "id": "o82fdH_z7gtI"
      }
    },
    {
      "cell_type": "code",
      "source": [
        "def read_flat_file(file_name):\n",
        "  with open(file_name) as f:\n",
        "    file_content = f.read()\n",
        "  return file_content\n",
        "\n",
        "def read_pdf_file(file_name, chunk_size=1500, chunk_overlap=150):\n",
        "  loader = PyPDFLoader(file_path=file_name)\n",
        "  pages = loader.load()\n",
        "  splitter = RecursiveCharacterTextSplitter(chunk_size=chunk_size, chunk_overlap=chunk_overlap)\n",
        "  splits = splitter.split_documents(pages)\n",
        "  return splits"
      ],
      "metadata": {
        "id": "V629d8qCoFJD"
      },
      "execution_count": 131,
      "outputs": []
    },
    {
      "cell_type": "markdown",
      "source": [
        "."
      ],
      "metadata": {
        "id": "Y3hSpfOJ8ONZ"
      }
    },
    {
      "cell_type": "markdown",
      "source": [
        "#3. Load OpenAI keys, instantiate client objects & load embeddings."
      ],
      "metadata": {
        "id": "_XpSAI5r8OQr"
      }
    },
    {
      "cell_type": "code",
      "source": [
        "os.environ[\"OPENAI_API_KEY\"] = read_flat_file(\"openai_key\")\n",
        "\n",
        "chatgpt3_5_turbo = ChatOpenAI(model=\"gpt-3.5-turbo\")\n",
        "chatgpt3_5_turbo_instruct = ChatOpenAI(model=\"gpt-3.5-turbo-instruct\")\n",
        "chatgpt4 = ChatOpenAI(model=\"gpt-4\")\n",
        "\n",
        "embedding = OpenAIEmbeddings()"
      ],
      "metadata": {
        "id": "bbpjQCSz8Ws6"
      },
      "execution_count": 132,
      "outputs": []
    },
    {
      "cell_type": "markdown",
      "source": [
        "."
      ],
      "metadata": {
        "id": "I6Kodol89OZE"
      }
    },
    {
      "cell_type": "markdown",
      "source": [
        "#4. Function to create Vector Database from document splits."
      ],
      "metadata": {
        "id": "bzaEeHM-9Oeb"
      }
    },
    {
      "cell_type": "code",
      "source": [
        "def create_vectordb_from_document_splits(document_splits, embedding):\n",
        "  return FAISS.from_documents(document_splits, embedding=embedding)"
      ],
      "metadata": {
        "id": "jYzzTZCI-uf5"
      },
      "execution_count": 133,
      "outputs": []
    },
    {
      "cell_type": "markdown",
      "source": [
        "."
      ],
      "metadata": {
        "id": "tS4XnCkV_AMS"
      }
    },
    {
      "cell_type": "markdown",
      "source": [
        "#5. Function to get Output Parser."
      ],
      "metadata": {
        "id": "wLMdKCbJ_AQQ"
      }
    },
    {
      "cell_type": "code",
      "source": [
        "def get_output_parser():\n",
        "  strengths = ResponseSchema(name=\"strengths\", description=\"Strengths of the candidate\")\n",
        "  weaknesses = ResponseSchema(name=\"weaknesses\", description=\"Weaknesses of the candidate.\")\n",
        "  summary = ResponseSchema(name=\"summary\", description=\"Short summary of the analysis mentioning eligibility of the candidate.\")\n",
        "  is_shortlisted = ResponseSchema(name=\"is_shortlisted\", description=\"Do candidate's skills match with required skills? (Yes/No)\")\n",
        "  return StructuredOutputParser.from_response_schemas([strengths, weaknesses, summary, is_shortlisted])"
      ],
      "metadata": {
        "id": "aE1po0M9_nVo"
      },
      "execution_count": 134,
      "outputs": []
    },
    {
      "cell_type": "markdown",
      "source": [
        "."
      ],
      "metadata": {
        "id": "zLdc5tJa_oGT"
      }
    },
    {
      "cell_type": "markdown",
      "source": [
        "#6. Function to get prompt template."
      ],
      "metadata": {
        "id": "AvOkV57u_oJx"
      }
    },
    {
      "cell_type": "code",
      "source": [
        "def get_prompt_template():\n",
        "\n",
        "  prompt_template_text = \"\"\"\n",
        "  You will be provided with a Job Description enclosed within {delimiter_job_description} delimiter.\n",
        "  You'll also be provided skills of the candidate enclosed within {delimiter_skills} delimiter.\n",
        "\n",
        "  Depending upon these two inputs, please provide the skill gap analysis for the employer to short-list resume.\n",
        "  Please make sure that the analysis is concise and to the point.\n",
        "\n",
        "\n",
        "  <Candidate's Skills>\n",
        "\n",
        "  {delimiter_skills}{context}{delimiter_skills}\n",
        "\n",
        "\n",
        "  <Job Description>\n",
        "\n",
        "  {delimiter_job_description}{job_description}{delimiter_job_description}\n",
        "\n",
        "  {instructions}\n",
        "\n",
        "  \"\"\"\n",
        "\n",
        "  return PromptTemplate(template=prompt_template_text,\n",
        "                        input_variables=[\"context\", \"job_description\", \"delimiter_skills\", \"delimiter_job_description\", \"instructions\"])"
      ],
      "metadata": {
        "id": "dm0DJDqH_6sr"
      },
      "execution_count": 135,
      "outputs": []
    },
    {
      "cell_type": "markdown",
      "source": [
        "."
      ],
      "metadata": {
        "id": "-Eafg84s_7XR"
      }
    },
    {
      "cell_type": "markdown",
      "source": [
        "#7. Function to get QA chain."
      ],
      "metadata": {
        "id": "n_cncWGH_7az"
      }
    },
    {
      "cell_type": "code",
      "source": [
        "def get_qa_chain(chat_client, prompt):\n",
        "  return load_qa_chain(llm=chat_client, chain_type=\"stuff\", prompt=prompt)"
      ],
      "metadata": {
        "id": "5zAcqcsdA8WM"
      },
      "execution_count": 136,
      "outputs": []
    },
    {
      "cell_type": "markdown",
      "source": [
        "."
      ],
      "metadata": {
        "id": "hajOSNOUHWol"
      }
    },
    {
      "cell_type": "markdown",
      "source": [
        "#8. Function to convert output dictionary in a printable format"
      ],
      "metadata": {
        "id": "Mj1a_DEJHWwn"
      }
    },
    {
      "cell_type": "code",
      "source": [
        "def return_pretty_print(input_dictionary):\n",
        "  pretty_string = \"\"\n",
        "  if input_dictionary[\"is_shortlisted\"] == \"Yes\":\n",
        "    pretty_string += \"\\nThe candidate is short-listed for interviews.\\n\"\n",
        "  else:\n",
        "    pretty_string += \"\\nThe candidate is not short-listed for interviews.\\n\"\n",
        "  pretty_string += f\"\\nStrengths: {input_dictionary['strengths']}\\n\"\n",
        "  pretty_string += f\"\\nWeaknesses: {input_dictionary['weaknesses']}\\n\"\n",
        "  pretty_string += f\"\\nOverall Summary: {input_dictionary['summary']}\"\n",
        "  pretty_string = pretty_string.replace('. ', '.\\n')\n",
        "  return pretty_string"
      ],
      "metadata": {
        "id": "FDH_2WaAHXKs"
      },
      "execution_count": 137,
      "outputs": []
    },
    {
      "cell_type": "markdown",
      "source": [
        "."
      ],
      "metadata": {
        "id": "UDWjtKrDA9pA"
      }
    },
    {
      "cell_type": "markdown",
      "source": [
        "#8, Function to run QA chain."
      ],
      "metadata": {
        "id": "1wGVgylGA9sl"
      }
    },
    {
      "cell_type": "code",
      "source": [
        "def run_qa_chain(resume, job_description, chat_client):\n",
        "  query = \"What are the skills and educational qualifications of the candidate?\"\n",
        "  prompt = get_prompt_template()\n",
        "  output_parser = get_output_parser()\n",
        "  instructions = output_parser.get_format_instructions()\n",
        "  job_description_text = read_flat_file(job_description)\n",
        "  document_splits = read_pdf_file(resume, chunk_size=1500, chunk_overlap=150)\n",
        "  vectordb = create_vectordb_from_document_splits(document_splits, embedding)\n",
        "  skills = vectordb.similarity_search(query, k=2)\n",
        "  chain = get_qa_chain(chat_client, prompt)\n",
        "  prompt_inputs = {\"input_documents\": skills, \"job_description\": job_description_text,\n",
        "                   \"delimiter_skills\": \"###\", \"delimiter_job_description\": \"$$$\", \"instructions\": instructions}\n",
        "  response = chain(prompt_inputs, return_only_outputs=True)\n",
        "  response_dict = output_parser.parse(response[\"output_text\"])\n",
        "  return return_pretty_print(response_dict)"
      ],
      "metadata": {
        "id": "tnD_9bbCBpB6"
      },
      "execution_count": 138,
      "outputs": []
    },
    {
      "cell_type": "markdown",
      "source": [
        "."
      ],
      "metadata": {
        "id": "hENV2CMoBpQ9"
      }
    },
    {
      "cell_type": "markdown",
      "source": [
        "#9. Testing the application"
      ],
      "metadata": {
        "id": "O4fr4YUVBpUZ"
      }
    },
    {
      "cell_type": "markdown",
      "source": [
        "#Using ML resume and ML JD with chatgpt 3.5"
      ],
      "metadata": {
        "id": "nGfHvV1LKrVd"
      }
    },
    {
      "cell_type": "code",
      "source": [
        "analysis = run_qa_chain(resume=\"Sanket_Patole_Machine_Learning.pdf\",\n",
        "                        job_description=\"Job Description Machine Learning.txt\",\n",
        "                        chat_client=chatgpt3_5_turbo)\n",
        "print(analysis)"
      ],
      "metadata": {
        "colab": {
          "base_uri": "https://localhost:8080/"
        },
        "id": "wKVcyVmPrMMr",
        "outputId": "c9fd06a4-ad13-4786-b2ad-8ffc62f2f744"
      },
      "execution_count": 139,
      "outputs": [
        {
          "output_type": "stream",
          "name": "stdout",
          "text": [
            "\n",
            "The candidate is short-listed for interviews.\n",
            "\n",
            "Strengths: The candidate has strong skills in programming, particularly in Python, UnixShell, Excel-VBA, Gitlab-CICD, and AWS-Cloudformation.\n",
            "They also have experience with data science techniques such as supervised and unsupervised learning, computer vision, and scikit-learn.\n",
            "In addition, the candidate has expertise in data engineering tools and technologies like SQL, Snowflake, Pyspark, and various AWS services.\n",
            "\n",
            "Weaknesses: The candidate does not mention any weaknesses in their skills or experience.\n",
            "\n",
            "Overall Summary: The candidate possesses a strong skill set in programming, data science, and data engineering.\n",
            "They have experience working with various tools and technologies relevant to the job description.\n",
            "Overall, the candidate appears to be eligible for the machine learning engineer position.\n"
          ]
        }
      ]
    },
    {
      "cell_type": "markdown",
      "source": [
        "#Using the same ML resume and JD with chatgpt 4"
      ],
      "metadata": {
        "id": "el0cZCdNK4TV"
      }
    },
    {
      "cell_type": "code",
      "source": [
        "analysis = run_qa_chain(resume=\"Sanket_Patole_Machine_Learning.pdf\",\n",
        "                        job_description=\"Job Description Machine Learning.txt\",\n",
        "                        chat_client=chatgpt4)\n",
        "print(analysis)"
      ],
      "metadata": {
        "colab": {
          "base_uri": "https://localhost:8080/"
        },
        "id": "DX4BB3Bqs5T4",
        "outputId": "e80c3f9a-59c1-4646-98b4-b5bdb53a7b20"
      },
      "execution_count": 140,
      "outputs": [
        {
          "output_type": "stream",
          "name": "stdout",
          "text": [
            "\n",
            "The candidate is not short-listed for interviews.\n",
            "\n",
            "Strengths: The candidate, Sanket Patole, is proficient in Python, one of the required languages for the position.\n",
            "He also has in-depth knowledge of data engineering, data science, and AWS Cloud, which may be beneficial in constructing optimized data pipelines for machine learning models.\n",
            "He also has experience working with Keras, a demanded machine learning framework.\n",
            "He also has a certification as an AWS Certified Cloud Practitioner, which could speak to his ability to work in cloud-based environments.\n",
            "\n",
            "Weaknesses: The candidate does not list experience with Java, R, or PyTorch, which is desired for this role.\n",
            "He also does not list any direct experience as a machine learning engineer, which is a preferred qualification.\n",
            "While he has extensive skills and experience in related fields, it is not clear if he has specific experience with machine learning algorithms and tools, or building machine learning systems.\n",
            "\n",
            "Overall Summary: Sanket Patole is a candidate with strong programming and data handling skills, particularly in Python and AWS Cloud.\n",
            "He also has experience with Keras, a machine learning framework.\n",
            "However, he has not indicated direct experience as a machine learning engineer, and lacks knowledge in Java, R, or PyTorch.\n",
            "His analytical, problem-solving and technical skills could be a potential fit for the role, but the lack of certain skills and experiences may require further evaluation or training.\n"
          ]
        }
      ]
    },
    {
      "cell_type": "markdown",
      "source": [
        "#Using ML resume and Full stack Developer JD with chatgpt 3.5"
      ],
      "metadata": {
        "id": "GNqFx8YDMyv2"
      }
    },
    {
      "cell_type": "code",
      "source": [
        "analysis = run_qa_chain(resume=\"Sanket_Patole_Machine_Learning.pdf\",\n",
        "                        job_description=\"Job Description Full Stack Developer.txt\",\n",
        "                        chat_client=chatgpt3_5_turbo)\n",
        "print(analysis)"
      ],
      "metadata": {
        "colab": {
          "base_uri": "https://localhost:8080/"
        },
        "id": "STsTurMYndoY",
        "outputId": "1ada6276-2e32-4226-9d26-59ce320267b7"
      },
      "execution_count": 141,
      "outputs": [
        {
          "output_type": "stream",
          "name": "stdout",
          "text": [
            "\n",
            "The candidate is not short-listed for interviews.\n",
            "\n",
            "Strengths: The candidate has strong skills in Python, Unix Shell, Excel-VBA, Gitlab-CICD, AWS-Cloudformation, RestAPIs, Supervised Learning, Unsupervised Learning, Computer Vision, Scikit-Learn, Keras, Statistics, EDA, Feature Engineering, SQL, Snowflake, Pyspark, AWS-S3, AWS-Lambda, AWS-State Machine, Docker, AWS-ECR/AWS-EKS, SnowPipe, AWS-Fargate, Abinitio ETLTool, Abinitio Metadata Hub, Jira, Scrum, Client Communication, and Technical Interviewing.\n",
            "They also have a certification in AWS Certified Cloud Practitioner.\n",
            "\n",
            "Weaknesses: The candidate does not have experience with Java, Spring, Springboot, Angular, and React, which are required skills for the Full Stack Developer role.\n",
            "They also do not have experience with desktop and mobile application development and familiarity with common stacks.\n",
            "\n",
            "Overall Summary: The candidate has strong skills in various programming languages, data science, and data engineering.\n",
            "However, they lack the specific skills required for the Full Stack Developer role, such as Java, Spring, Springboot, Angular, and React.\n",
            "They also do not have experience with desktop and mobile application development and familiarity with common stacks.\n",
            "Therefore, the candidate may not be eligible for the Full Stack Developer position.\n"
          ]
        }
      ]
    },
    {
      "cell_type": "markdown",
      "source": [
        "#Using ML resume and Full stack Developer JD with chatgpt 4"
      ],
      "metadata": {
        "id": "ccQkA6CMNLkB"
      }
    },
    {
      "cell_type": "code",
      "source": [
        "analysis = run_qa_chain(resume=\"Sanket_Patole_Machine_Learning.pdf\",\n",
        "                        job_description=\"Job Description Full Stack Developer.txt\",\n",
        "                        chat_client=chatgpt4)\n",
        "print(analysis)"
      ],
      "metadata": {
        "colab": {
          "base_uri": "https://localhost:8080/"
        },
        "id": "OLPdeyNB4RT8",
        "outputId": "dd302a89-db90-4de0-8940-c25f401fbb3c"
      },
      "execution_count": 143,
      "outputs": [
        {
          "output_type": "stream",
          "name": "stdout",
          "text": [
            "\n",
            "The candidate is not short-listed for interviews.\n",
            "\n",
            "Strengths: The candidate has strong experience in Python, SQL, AWS, Docker, and has proven experience in Data Science and Data Engineering.\n",
            "His knowledge in AWS cloud platform, ETL applications and various databases like PostgreSQL and Snowflake, along with his certifications and projects also add to his strengths.\n",
            "He has also shown his ability to work in a team and has good client communication skills.\n",
            "\n",
            "Weaknesses: The candidate lacks experience in front-end languages and libraries (like HTML/CSS, JavaScript, XML, jQuery), back-end languages (like C#, Java), JavaScript frameworks (like Angular, React, Node.js), and UI/UX design.\n",
            "The candidate also has no stated experience with mobile application development, and no stated knowledge of Spring and Springboot.\n",
            "\n",
            "Overall Summary: Sanket Patole has a rich background in backend development, data science and data engineering, with a focus on Python, SQL, AWS and other related technologies.\n",
            "However, for the role of a Full Stack Developer, he would need to improve his skills in front-end languages, JavaScript frameworks and UI/UX design.\n",
            "His lack of experience in mobile application development could also be a limitation for this role.\n"
          ]
        }
      ]
    },
    {
      "cell_type": "code",
      "source": [],
      "metadata": {
        "id": "Q-YkTWQXpt7U"
      },
      "execution_count": 143,
      "outputs": []
    },
    {
      "cell_type": "code",
      "source": [],
      "metadata": {
        "id": "-60ndEKspBf5"
      },
      "execution_count": null,
      "outputs": []
    }
  ]
}